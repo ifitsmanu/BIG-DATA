{
 "cells": [
  {
   "cell_type": "markdown",
   "metadata": {},
   "source": [
    "### Task 1"
   ]
  },
  {
   "cell_type": "code",
   "execution_count": 18,
   "metadata": {},
   "outputs": [
    {
     "ename": "ModuleNotFoundError",
     "evalue": "No module named 'msilib'",
     "output_type": "error",
     "traceback": [
      "\u001b[0;31m---------------------------------------------------------------------------\u001b[0m",
      "\u001b[0;31mModuleNotFoundError\u001b[0m                       Traceback (most recent call last)",
      "\u001b[0;32m/var/folders/d2/_shffjns51zfv_2ynpsjfqhw0000gn/T/ipykernel_67059/595504684.py\u001b[0m in \u001b[0;36m<module>\u001b[0;34m\u001b[0m\n\u001b[0;32m----> 1\u001b[0;31m \u001b[0;32mfrom\u001b[0m \u001b[0mmsilib\u001b[0m\u001b[0;34m.\u001b[0m\u001b[0mschema\u001b[0m \u001b[0;32mimport\u001b[0m \u001b[0mClass\u001b[0m\u001b[0;34m\u001b[0m\u001b[0;34m\u001b[0m\u001b[0m\n\u001b[0m\u001b[1;32m      2\u001b[0m \u001b[0;32mimport\u001b[0m \u001b[0mrandom\u001b[0m\u001b[0;34m\u001b[0m\u001b[0;34m\u001b[0m\u001b[0m\n\u001b[1;32m      3\u001b[0m \u001b[0;32mfrom\u001b[0m \u001b[0mdataclasses\u001b[0m \u001b[0;32mimport\u001b[0m \u001b[0mdataclass\u001b[0m\u001b[0;34m\u001b[0m\u001b[0;34m\u001b[0m\u001b[0m\n\u001b[1;32m      4\u001b[0m \u001b[0mtgt_cache\u001b[0m\u001b[0;34m=\u001b[0m\u001b[0;34m[\u001b[0m\u001b[0;34m]\u001b[0m\u001b[0;34m\u001b[0m\u001b[0;34m\u001b[0m\u001b[0m\n\u001b[1;32m      5\u001b[0m \u001b[0;34m@\u001b[0m\u001b[0mdataclass\u001b[0m\u001b[0;34m\u001b[0m\u001b[0;34m\u001b[0m\u001b[0m\n",
      "\u001b[0;31mModuleNotFoundError\u001b[0m: No module named 'msilib'"
     ]
    }
   ],
   "source": [
    "from msilib.schema import Class\n",
    "import random\n",
    "from dataclasses import dataclass\n",
    "tgt_cache=[]\n",
    "@dataclass\n",
    "class Target:\n",
    "    tgtNumber:str=\"\"\n",
    "    tgtPriority:int=0\n",
    "    tgtLocation_X:int=0\n",
    "    tgtLocation_Y:int=0\n",
    "\n",
    "    def __init__(self):\n",
    "        self.generateTarget()\n",
    "    \n",
    "    def generateTarget(self):\n",
    "        valid_uppercases=\"ABCDEF\"\n",
    "        valid_digits=\"0123456789\"\n",
    "        #target number is a combination of 2 uppercase letters and 4 digits\n",
    "        # e.g. T-AB1234\n",
    "        #tgt number has to be unique\n",
    "        while True:\n",
    "            self.tgtNumber=\"T-\"+\"\".join(random.choices(valid_uppercases,k=2))+\"\".join(random.choices(valid_digits,k=4))\n",
    "            if self.tgtNumber not in tgt_cache:\n",
    "                tgt_cache.append(self.tgtNumber)\n",
    "                break\n",
    "        \n",
    "        \n",
    "        self.tgtPriority=random.choice([\"Immediate\",\"Routine\"])\n",
    " \n",
    "\n",
    "        self.tgtLocation_X=random.randint(200,400)\n",
    "        self.tgtLocation_Y=random.randint(200,400)\n",
    "\n",
    "    def displayTarget(self):\n",
    "        print(\"Target: \",self.tgtNumber)\n",
    "        print(\"Priority: \",self.tgtPriority)\n",
    "        print(\"Map Location\")\n",
    "        print(\"X: \",self.tgtLocation_X)\n",
    "        print(\"Y: \",self.tgtLocation_Y)\n",
    "\n",
    "\n"
   ]
  },
  {
   "cell_type": "markdown",
   "metadata": {},
   "source": [
    "### Task 2"
   ]
  },
  {
   "cell_type": "code",
   "execution_count": 9,
   "metadata": {},
   "outputs": [],
   "source": [
    "@dataclass\n",
    "class Airfield:\n",
    "    afID:str=\"\"\n",
    "    afCapacity:int=0\n",
    "    afLocation_X:int=0\n",
    "    afLocation_Y:int=0\n",
    "    def __init__(self):\n",
    "        self.generateAirfield()\n",
    "\n",
    "    def generateAirfield(self):\n",
    "        valid_digits=\"0123456789\"\n",
    " \n",
    "        # e.g. AF-12\n",
    "        self.afID=\"AF-\"+\"\".join(random.choices(valid_digits,k=2))\n",
    "        #capacity can be Large, Medium or Small\n",
    "        self.afCapacity=random.choice([\"Large\",\"Medium\",\"Small\"])\n",
    "        #location is in range from 0 to 100\n",
    "        self.afLocation_X=random.randint(0,100)\n",
    "        self.afLocation_Y=random.randint(0,100)\n",
    "\n",
    "    def displayAirfield(self):\n",
    "        print(\"Airfield:\",self.afID,\"  Capacity:\",self.afCapacity,\"  Map Location\",\"X:\",self.afLocation_X,\"Y:\",self.afLocation_Y)\n",
    "\n",
    "    "
   ]
  },
  {
   "cell_type": "code",
   "execution_count": 10,
   "metadata": {},
   "outputs": [
    {
     "name": "stdout",
     "output_type": "stream",
     "text": [
      "Airfield: AF-51   Capacity: Large   Map Location X: 85 Y: 25\n"
     ]
    }
   ],
   "source": [
    "a=Airfield()\n",
    "a.displayAirfield()"
   ]
  },
  {
   "cell_type": "markdown",
   "metadata": {},
   "source": [
    "### Task 3"
   ]
  },
  {
   "cell_type": "code",
   "execution_count": 19,
   "metadata": {},
   "outputs": [],
   "source": [
    "def buildTargetList(filename,N):\n",
    "  \n",
    "    #each target is on a separate line\n",
    "\n",
    "    with open(filename,\"w\") as f:\n",
    "        for i in range(N):\n",
    "            target=Target()\n",
    "            target.generateTarget()\n",
    "            f.write(target.tgtNumber+\"\\t\"+target.tgtPriority+\"\\t\"+str(target.tgtLocation_X)+\" \"+str(target.tgtLocation_Y))\n",
    "            f.write(\"\\n\")\n"
   ]
  },
  {
   "cell_type": "code",
   "execution_count": 12,
   "metadata": {},
   "outputs": [],
   "source": [
    "buildTargetList(\"targets.txt\",10)"
   ]
  },
  {
   "cell_type": "markdown",
   "metadata": {},
   "source": [
    "### Task 4"
   ]
  },
  {
   "cell_type": "code",
   "execution_count": 13,
   "metadata": {},
   "outputs": [
    {
     "name": "stdout",
     "output_type": "stream",
     "text": [
      "                    Airfields                     \n",
      "Airfield: AF-93   Capacity: Large   Map Location X: 88 Y: 33\n",
      "Airfield: AF-83   Capacity: Large   Map Location X: 7 Y: 96\n",
      "Airfield: AF-33   Capacity: Medium   Map Location X: 94 Y: 21\n",
      "\n",
      "\n",
      "\n",
      "\n",
      "           Target to Airfield Distances           \n",
      "T-BB8761->AF-93 321.89\tT-BB8761->AF-83 364.73\tT-BB8761->AF-33 324.25\t\n",
      "T-BB5125->AF-93 290.26\tT-BB5125->AF-83 315.09\tT-BB5125->AF-33 295.38\t\n",
      "T-EB6622->AF-93 260.42\tT-EB6622->AF-83 277.19\tT-EB6622->AF-33 266.81\t\n",
      "T-DD4776->AF-93 328.8\tT-DD4776->AF-83 342.24\tT-DD4776->AF-33 335.08\t\n",
      "T-FE4506->AF-93 369.87\tT-FE4506->AF-83 365.04\tT-FE4506->AF-33 377.96\t\n",
      "T-DB5775->AF-93 404.04\tT-DB5775->AF-83 435.66\tT-DB5775->AF-33 407.59\t\n",
      "T-AC0481->AF-93 301.31\tT-AC0481->AF-83 327.94\tT-AC0481->AF-33 306.11\t\n",
      "T-DC6982->AF-93 297.23\tT-DC6982->AF-83 303.76\tT-DC6982->AF-33 304.51\t\n",
      "T-CB2277->AF-93 406.99\tT-CB2277->AF-83 400.86\tT-CB2277->AF-33 415.06\t\n",
      "T-DF3793->AF-93 390.69\tT-DF3793->AF-83 423.08\tT-DF3793->AF-33 394.19\t\n",
      "\n",
      "\n",
      "\n",
      "\n",
      "Targets: 10\n",
      "Immediate Targets: 5\n",
      "Routine Targets: 5\n"
     ]
    }
   ],
   "source": [
    "def processTargetList(filename,airfieldList):\n",
    "    #prints Airfields\n",
    "    print(\"Airfields\".center(50))\n",
    "    for af in airfieldList:\n",
    "        af.displayAirfield()\n",
    "    total_targets=0\n",
    "    immediate_targets=0\n",
    "    print(\"\\n\\n\\n\")\n",
    "    print(\"Target to Airfield Distances\".center(50))\n",
    "    with open(filename,\"r\") as f:\n",
    "        \n",
    "        for line in f:\n",
    "            #split line into target number, priority, location_X and location_Y\n",
    "            tgtNumber,tgtPriority,location=line.split(\"\\t\")\n",
    "            location_X,location_Y=location.split(\" \")\n",
    "            location_X=int(location_X)\n",
    "            location_Y=int(location_Y)\n",
    "            \n",
    "            #calculate distance to each airfield\n",
    "            \n",
    "            for af in airfieldList:\n",
    "                distance=round(((location_X-af.afLocation_X)**2+(location_Y-af.afLocation_Y)**2)**0.5,2)\n",
    "                print(tgtNumber+\"->\"+af.afID,distance,end=\"\\t\")\n",
    "            print()\n",
    "            total_targets+=1\n",
    "            if tgtPriority==\"Immediate\":\n",
    "                immediate_targets+=1\n",
    "    print(\"\\n\\n\\n\")\n",
    "    print(\"Targets:\",total_targets)\n",
    "    print(\"Immediate Targets:\",immediate_targets)\n",
    "    print(\"Routine Targets:\",total_targets-immediate_targets)\n",
    "\n",
    "airfieldList=[]\n",
    "for i in range(3):\n",
    "    airfield=Airfield()\n",
    "    airfield.generateAirfield()\n",
    "    airfieldList.append(airfield)\n",
    "\n",
    "processTargetList(\"targets.txt\",airfieldList)\n",
    "\n",
    "        \n"
   ]
  },
  {
   "cell_type": "markdown",
   "metadata": {},
   "source": [
    "### Task 5"
   ]
  },
  {
   "cell_type": "code",
   "execution_count": 14,
   "metadata": {},
   "outputs": [],
   "source": [
    "def orderTargetList(filename):\n",
    "    routines_targets=[]\n",
    "    immediate_targets=[]\n",
    "    with open(filename,\"r\") as f:\n",
    "        for line in f:\n",
    "            tgtNumber,tgtPriority,location=line.split(\"\\t\")\n",
    "            location_x,location_y=location.split(\" \")\n",
    "            if tgtPriority==\"Immediate\":\n",
    "                immediate_targets.append(line)\n",
    "            else:\n",
    "                routines_targets.append(line)\n",
    "\n",
    "    print(\"Immediate Targets\")\n",
    "    print(\"Target Count:\",len(immediate_targets))\n",
    "    for target in immediate_targets:\n",
    "        print(target,end=\"\")\n",
    "    print(\"\\n\")\n",
    "    print(\"Routine Targets\")\n",
    "    print(\"Target Count:\",len(routines_targets))\n",
    "    for target in routines_targets:\n",
    "        print(target,end=\"\")\n",
    "    print(\"\\n\")\n"
   ]
  },
  {
   "cell_type": "code",
   "execution_count": 29,
   "metadata": {},
   "outputs": [
    {
     "name": "stdout",
     "output_type": "stream",
     "text": [
      "Immediate Targets\n",
      "Target Count: 5\n",
      "T-BF1735\tImmediate\t322 303\n",
      "T-DC9576\tImmediate\t213 263\n",
      "T-CB0962\tImmediate\t386 242\n",
      "T-CE1935\tImmediate\t250 356\n",
      "T-FB2352\tImmediate\t252 305\n",
      "\n",
      "\n",
      "Routine Targets\n",
      "Target Count: 5\n",
      "T-AC4343\tRoutine\t200 387\n",
      "T-EC1529\tRoutine\t343 399\n",
      "T-EA4156\tRoutine\t226 273\n",
      "T-DF4914\tRoutine\t341 204\n",
      "T-FF8922\tRoutine\t276 235\n",
      "\n",
      "\n"
     ]
    }
   ],
   "source": [
    "orderTargetList(\"targets.txt\")"
   ]
  }
 ],
 "metadata": {
  "kernelspec": {
   "display_name": "Python 3 (ipykernel)",
   "language": "python",
   "name": "python3"
  },
  "language_info": {
   "codemirror_mode": {
    "name": "ipython",
    "version": 3
   },
   "file_extension": ".py",
   "mimetype": "text/x-python",
   "name": "python",
   "nbconvert_exporter": "python",
   "pygments_lexer": "ipython3",
   "version": "3.9.7"
  },
  "vscode": {
   "interpreter": {
    "hash": "98e16423f281416e4db1cd85afc9ee8b23f1d33e86970bb80522a7ea7bb26354"
   }
  }
 },
 "nbformat": 4,
 "nbformat_minor": 2
}
