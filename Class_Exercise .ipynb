{
 "cells": [
  {
   "cell_type": "code",
   "execution_count": 57,
   "id": "0e2011fd",
   "metadata": {},
   "outputs": [],
   "source": [
    "from matplotlib import pyplot as plt\n",
    "data_file=open('/Users/ifitsmanu/Desktop/StrikeList.txt','r')\n"
   ]
  },
  {
   "cell_type": "code",
   "execution_count": 58,
   "id": "a68c9bde",
   "metadata": {},
   "outputs": [
    {
     "ename": "NameError",
     "evalue": "name 'target_destinations' is not defined",
     "output_type": "error",
     "traceback": [
      "\u001b[0;31m---------------------------------------------------------------------------\u001b[0m",
      "\u001b[0;31mNameError\u001b[0m                                 Traceback (most recent call last)",
      "\u001b[0;32m/var/folders/d2/_shffjns51zfv_2ynpsjfqhw0000gn/T/ipykernel_6219/310793204.py\u001b[0m in \u001b[0;36m<module>\u001b[0;34m\u001b[0m\n\u001b[1;32m     73\u001b[0m         \u001b[0mprint\u001b[0m\u001b[0;34m(\u001b[0m\u001b[0;34m)\u001b[0m\u001b[0;34m\u001b[0m\u001b[0;34m\u001b[0m\u001b[0m\n\u001b[1;32m     74\u001b[0m \u001b[0mdata_file\u001b[0m\u001b[0;34m=\u001b[0m\u001b[0mopen\u001b[0m\u001b[0;34m(\u001b[0m\u001b[0;34m'StrikeList.txt'\u001b[0m\u001b[0;34m,\u001b[0m\u001b[0;34m'r'\u001b[0m\u001b[0;34m)\u001b[0m\u001b[0;34m\u001b[0m\u001b[0;34m\u001b[0m\u001b[0m\n\u001b[0;32m---> 75\u001b[0;31m \u001b[0manalyzeTgtDestinations\u001b[0m\u001b[0;34m(\u001b[0m\u001b[0mdata_file\u001b[0m\u001b[0;34m)\u001b[0m\u001b[0;34m\u001b[0m\u001b[0;34m\u001b[0m\u001b[0m\n\u001b[0m",
      "\u001b[0;32m/var/folders/d2/_shffjns51zfv_2ynpsjfqhw0000gn/T/ipykernel_6219/310793204.py\u001b[0m in \u001b[0;36manalyzeTgtDestinations\u001b[0;34m(data_file)\u001b[0m\n\u001b[1;32m     27\u001b[0m         \u001b[0;31m# print(target_race)\u001b[0m\u001b[0;34m\u001b[0m\u001b[0;34m\u001b[0m\u001b[0m\n\u001b[1;32m     28\u001b[0m \u001b[0;34m\u001b[0m\u001b[0m\n\u001b[0;32m---> 29\u001b[0;31m         \u001b[0mtarget_destinations\u001b[0m\u001b[0;34m[\u001b[0m\u001b[0mtarget_destination\u001b[0m\u001b[0;34m]\u001b[0m\u001b[0;34m=\u001b[0m\u001b[0mtarget_destinations\u001b[0m\u001b[0;34m.\u001b[0m\u001b[0mget\u001b[0m\u001b[0;34m(\u001b[0m\u001b[0mtarget_destination\u001b[0m\u001b[0;34m,\u001b[0m\u001b[0;36m0\u001b[0m\u001b[0;34m)\u001b[0m\u001b[0;34m+\u001b[0m\u001b[0;36m1\u001b[0m\u001b[0;34m\u001b[0m\u001b[0;34m\u001b[0m\u001b[0m\n\u001b[0m\u001b[1;32m     30\u001b[0m         \u001b[0;32mif\u001b[0m \u001b[0mtarget_destination\u001b[0m \u001b[0;32mnot\u001b[0m \u001b[0;32min\u001b[0m \u001b[0mtarget_types\u001b[0m\u001b[0;34m:\u001b[0m\u001b[0;34m\u001b[0m\u001b[0;34m\u001b[0m\u001b[0m\n\u001b[1;32m     31\u001b[0m             \u001b[0mtarget_types\u001b[0m\u001b[0;34m[\u001b[0m\u001b[0mtarget_destination\u001b[0m\u001b[0;34m]\u001b[0m\u001b[0;34m=\u001b[0m\u001b[0;34m{\u001b[0m\u001b[0;34m}\u001b[0m\u001b[0;34m\u001b[0m\u001b[0;34m\u001b[0m\u001b[0m\n",
      "\u001b[0;31mNameError\u001b[0m: name 'target_destinations' is not defined"
     ]
    }
   ],
   "source": [
    "def analyzeTgtDestinations(data_file):\n",
    "    \"\"\"Does analysis on the target destination\n",
    "\n",
    "    Args:\n",
    "        data_file : file object which contains the clean data\n",
    "    \"\"\"\n",
    "   \n",
    "    target_races={}\n",
    "    target_destination={}\n",
    "    target_type={}\n",
    "    target_value={}\n",
    "    target_x_coordinate={}\n",
    "    target_y_coordinate={}\n",
    "    target_protection={}\n",
    "    for line in data_file:\n",
    "        line=line.split()\n",
    "        target_destination=line[0].split('-')[0]\n",
    "        target_type=line[1]\n",
    "        target_value=line[2]\n",
    "        target_x_coordinate=line[3]\n",
    "        target_y_coordinate=line[4]\n",
    "        target_protection=line[5]\n",
    "\n",
    "        # print(targest_destination)\n",
    "        # print(target_type)\n",
    "        # print(target_priority)\n",
    "        # print(target_race)\n",
    "\n",
    "        target_destinations[target_destination]=target_destinations.get(target_destination,0)+1\n",
    "        if target_destination not in target_types:\n",
    "            target_types[target_destination]={}\n",
    "        target_types[target_destination][target_type]=target_types[target_destination].get(target_type,0)+1\n",
    "\n",
    "        if target_destination not in target_priorities:\n",
    "            target_priorities[target_destination]={}\n",
    "        target_priorities[target_destination][target_priority]=target_priorities[target_destination].get(target_priority,0)+1\n",
    "\n",
    "        if target_race not in target_races:\n",
    "            target_races[target_race]={}\n",
    "        target_races[target_race][target_destination]=target_races[target_race].get(target_destination,0)+1\n",
    "\n",
    "    # print(target_destinations)\n",
    "    # print(target_types)\n",
    "    # print(target_priorities)\n",
    "    # print(target_races)\n",
    "\n",
    "    print(\"TOTAL TARGETS: \",sum(target_destinations.values()))\n",
    "    print()\n",
    "    print(\"TARGET DESTINATION COUNTS: \",end=\"\\n\\t\")\n",
    "    #print in sorted key order\n",
    "    for key in sorted(target_destinations.keys()):\n",
    "        print(key+\":\",target_destinations[key],end=\"   \")\n",
    "    print(\"\\n\")\n",
    "\n",
    "    for key in sorted(target_types.keys()):\n",
    "        print(\"TARGET TYPE COUNTS {} DESTINATION TARGETS \".format(key),end=\"\\n\\t\")\n",
    "        for types in sorted(target_types[key].keys()):\n",
    "            print(types+\":\",target_types[key][types],end=\"   \")\n",
    "        print()\n",
    "    print(\"\\n\\n\")\n",
    "    for key in sorted(target_priorities.keys()):\n",
    "        print(\"TARGET PRIORITY COUNTS {} DESTINATION TARGETS \".format(key),end=\"\\n\\t\")\n",
    "        for priority in sorted(target_priorities[key].keys()):\n",
    "            print(priority+\":\",target_priorities[key][priority],end=\"   \")\n",
    "        print()\n",
    "\n",
    "    print(\"\\n\\n\")\n",
    "\n",
    "    for key in target_races.keys():\n",
    "        print(\"{} TARGETS:\".format(key),end=\"\\n\\t\")\n",
    "        for target in sorted(target_races[key].keys()):\n",
    "            print(target+\":\",target_races[key][target],end=\"   \")\n",
    "        print()\n",
    "data_file=open('StrikeList.txt','r')\n",
    "analyzeTgtDestinations(data_file)"
   ]
  },
  {
   "cell_type": "code",
   "execution_count": 59,
   "id": "3b9f388b",
   "metadata": {},
   "outputs": [
    {
     "ename": "IndentationError",
     "evalue": "unexpected indent (3382448449.py, line 10)",
     "output_type": "error",
     "traceback": [
      "\u001b[0;36m  File \u001b[0;32m\"/var/folders/d2/_shffjns51zfv_2ynpsjfqhw0000gn/T/ipykernel_6219/3382448449.py\"\u001b[0;36m, line \u001b[0;32m10\u001b[0m\n\u001b[0;31m    ZTgts = splitCoordinates(getZergTgts(fn))\u001b[0m\n\u001b[0m    ^\u001b[0m\n\u001b[0;31mIndentationError\u001b[0m\u001b[0;31m:\u001b[0m unexpected indent\n"
     ]
    }
   ],
   "source": [
    "def plotAllTargets(data_file):\n",
    "    \"\"\" Creates a scatter plot chart to visualize the categories in the data file\n",
    "\n",
    "       \n",
    "    \"\"\"\n",
    "    \n",
    "\n",
    "f= open('StrikeList.txt')\n",
    "\n",
    "    ZTgts = splitCoordinates(getZergTgts(fn))\n",
    "    PTgts = splitCoordinates(getProtosTgts(fn))\n",
    "    ZTgts = splitCoordinates(getTerranTgts(fn))\n",
    "    \n",
    "    plt.scatter(ZTgts[0],ZTgts[1],marker='D')\n",
    "    plt.scatter(ZTgts[0],PTgts[1],marker='s')\n",
    "    plt.scatter(ZTgts[0],TTgts[1],marker='H')\n",
    "    \n",
    "    plt.show()\n",
    "    \n",
    "displayTargets('StrikeList.txt'')\n"
   ]
  },
  {
   "cell_type": "code",
   "execution_count": null,
   "id": "832d170e",
   "metadata": {},
   "outputs": [],
   "source": []
  }
 ],
 "metadata": {
  "kernelspec": {
   "display_name": "Python 3 (ipykernel)",
   "language": "python",
   "name": "python3"
  },
  "language_info": {
   "codemirror_mode": {
    "name": "ipython",
    "version": 3
   },
   "file_extension": ".py",
   "mimetype": "text/x-python",
   "name": "python",
   "nbconvert_exporter": "python",
   "pygments_lexer": "ipython3",
   "version": "3.9.7"
  }
 },
 "nbformat": 4,
 "nbformat_minor": 5
}
